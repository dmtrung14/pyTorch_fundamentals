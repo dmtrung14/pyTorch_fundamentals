{
  "nbformat": 4,
  "nbformat_minor": 0,
  "metadata": {
    "colab": {
      "provenance": [],
      "authorship_tag": "ABX9TyOgYUI2MOm+HkZbp4eXkxud",
      "include_colab_link": true
    },
    "kernelspec": {
      "name": "python3",
      "display_name": "Python 3"
    },
    "language_info": {
      "name": "python"
    },
    "gpuClass": "standard"
  },
  "cells": [
    {
      "cell_type": "markdown",
      "metadata": {
        "id": "view-in-github",
        "colab_type": "text"
      },
      "source": [
        "<a href=\"https://colab.research.google.com/github/dmtrung14/pyTorch_fundamentals/blob/main/PyTorch_Fundamentals.ipynb\" target=\"_parent\"><img src=\"https://colab.research.google.com/assets/colab-badge.svg\" alt=\"Open In Colab\"/></a>"
      ]
    },
    {
      "cell_type": "code",
      "execution_count": null,
      "metadata": {
        "colab": {
          "base_uri": "https://localhost:8080/"
        },
        "id": "AAu0aYfdCWYv",
        "outputId": "33761c6c-7ae5-4172-c1a7-d172bedbeb85"
      },
      "outputs": [
        {
          "output_type": "stream",
          "name": "stdout",
          "text": [
            "Hello World\n"
          ]
        }
      ],
      "source": [
        "print(\"Hello World\")"
      ]
    },
    {
      "cell_type": "code",
      "source": [
        "import torch\n",
        "import pandas as pd\n",
        "import numpy as np\n",
        "import matplotlib.pyplot as plt\n",
        "print(torch.__version__)"
      ],
      "metadata": {
        "colab": {
          "base_uri": "https://localhost:8080/"
        },
        "id": "TW7O55A-DR7x",
        "outputId": "2ecb94ef-b65c-4894-c82d-f5e52148ea87"
      },
      "execution_count": null,
      "outputs": [
        {
          "output_type": "stream",
          "name": "stdout",
          "text": [
            "2.0.0+cu118\n"
          ]
        }
      ]
    },
    {
      "cell_type": "markdown",
      "source": [
        "## Tensors\n"
      ],
      "metadata": {
        "id": "AtAAUtk7DxhU"
      }
    },
    {
      "cell_type": "code",
      "source": [
        "###scalar\n",
        "\n",
        "scalar = torch.tensor(7)\n",
        "scalar"
      ],
      "metadata": {
        "colab": {
          "base_uri": "https://localhost:8080/"
        },
        "id": "STYQt9R3Dxz0",
        "outputId": "30041f3a-045c-4186-c5ac-83db57606a6f"
      },
      "execution_count": null,
      "outputs": [
        {
          "output_type": "execute_result",
          "data": {
            "text/plain": [
              "tensor(7)"
            ]
          },
          "metadata": {},
          "execution_count": 4
        }
      ]
    },
    {
      "cell_type": "code",
      "source": [
        "scalar.ndim "
      ],
      "metadata": {
        "colab": {
          "base_uri": "https://localhost:8080/"
        },
        "id": "UgmgC9UUEN6X",
        "outputId": "d9e9f669-65b7-4c6c-eb60-3c6bd0971939"
      },
      "execution_count": null,
      "outputs": [
        {
          "output_type": "execute_result",
          "data": {
            "text/plain": [
              "0"
            ]
          },
          "metadata": {},
          "execution_count": 5
        }
      ]
    },
    {
      "cell_type": "code",
      "source": [
        "scalar.item()\n"
      ],
      "metadata": {
        "colab": {
          "base_uri": "https://localhost:8080/"
        },
        "id": "9gi8T64tEz63",
        "outputId": "eb9a2902-a855-4654-94de-aa8cb853967c"
      },
      "execution_count": null,
      "outputs": [
        {
          "output_type": "execute_result",
          "data": {
            "text/plain": [
              "7"
            ]
          },
          "metadata": {},
          "execution_count": 6
        }
      ]
    },
    {
      "cell_type": "code",
      "source": [
        "### vector\n",
        "vector = torch.tensor([7,7])\n",
        "vector"
      ],
      "metadata": {
        "colab": {
          "base_uri": "https://localhost:8080/"
        },
        "id": "T8_o4sUXE104",
        "outputId": "f601a1c6-cec6-4eeb-d705-b465bb173ad0"
      },
      "execution_count": null,
      "outputs": [
        {
          "output_type": "execute_result",
          "data": {
            "text/plain": [
              "tensor([7, 7])"
            ]
          },
          "metadata": {},
          "execution_count": 7
        }
      ]
    },
    {
      "cell_type": "code",
      "source": [
        "vector.ndim\n",
        "vector.shape"
      ],
      "metadata": {
        "colab": {
          "base_uri": "https://localhost:8080/"
        },
        "id": "G6Ic8IYIE8oV",
        "outputId": "b1a5d997-38c9-4991-860d-7fce48197175"
      },
      "execution_count": null,
      "outputs": [
        {
          "output_type": "execute_result",
          "data": {
            "text/plain": [
              "torch.Size([2])"
            ]
          },
          "metadata": {},
          "execution_count": 10
        }
      ]
    },
    {
      "cell_type": "code",
      "source": [
        "### matrix\n",
        "matrix = torch.tensor([[7,7],[8,8]])\n",
        "matrix"
      ],
      "metadata": {
        "colab": {
          "base_uri": "https://localhost:8080/"
        },
        "id": "qCCkOIzkFXNw",
        "outputId": "b07c375d-15b0-4673-8c09-2ebf20d44557"
      },
      "execution_count": null,
      "outputs": [
        {
          "output_type": "execute_result",
          "data": {
            "text/plain": [
              "tensor([[7, 7],\n",
              "        [8, 8]])"
            ]
          },
          "metadata": {},
          "execution_count": 12
        }
      ]
    },
    {
      "cell_type": "code",
      "source": [
        "print(matrix.ndim)\n",
        "print(matrix.shape)"
      ],
      "metadata": {
        "colab": {
          "base_uri": "https://localhost:8080/"
        },
        "id": "7AKUmPNcFlO-",
        "outputId": "786a6d3d-fb03-4262-aece-5d67cdee310c"
      },
      "execution_count": null,
      "outputs": [
        {
          "output_type": "stream",
          "name": "stdout",
          "text": [
            "2\n",
            "torch.Size([2, 2])\n"
          ]
        }
      ]
    },
    {
      "cell_type": "code",
      "source": [
        "### Tensor\n",
        "\n",
        "TENSOR = torch.tensor([[[1,2,3], [4,5,6], [7,8,9]]])\n",
        "TENSOR"
      ],
      "metadata": {
        "colab": {
          "base_uri": "https://localhost:8080/"
        },
        "id": "kEz4LikiF5qG",
        "outputId": "b6622bb1-b898-4544-de26-eca0a5f4ff64"
      },
      "execution_count": null,
      "outputs": [
        {
          "output_type": "execute_result",
          "data": {
            "text/plain": [
              "tensor([[[1, 2, 3],\n",
              "         [4, 5, 6],\n",
              "         [7, 8, 9]]])"
            ]
          },
          "metadata": {},
          "execution_count": 16
        }
      ]
    },
    {
      "cell_type": "code",
      "source": [
        "print(TENSOR.ndim)\n",
        "print(TENSOR.shape)"
      ],
      "metadata": {
        "colab": {
          "base_uri": "https://localhost:8080/"
        },
        "id": "QCMr6RuJGFlD",
        "outputId": "761f56bc-b60b-45a8-b089-818d11103796"
      },
      "execution_count": null,
      "outputs": [
        {
          "output_type": "stream",
          "name": "stdout",
          "text": [
            "3\n",
            "torch.Size([1, 3, 3])\n"
          ]
        }
      ]
    },
    {
      "cell_type": "markdown",
      "source": [
        "This means one dimension of 3 by 3, 3 dimensions of 1 by 3, and 3 scalars in the inner most bracket."
      ],
      "metadata": {
        "id": "BPeE5tHoGdQJ"
      }
    },
    {
      "cell_type": "markdown",
      "source": [
        "## Random Tensors\n",
        "\n",
        "Random tensors are important because many neural networks will start with a random tensor of desired dimensions, then adjust those random numbers to better represent the data. "
      ],
      "metadata": {
        "id": "aLm3ZBB1H_A4"
      }
    },
    {
      "cell_type": "code",
      "source": [
        "### Create random tensors of size/shape\n",
        "random_tensor = torch.rand(3,4)\n",
        "random_tensor"
      ],
      "metadata": {
        "colab": {
          "base_uri": "https://localhost:8080/"
        },
        "id": "kkzPD6pLGnDb",
        "outputId": "e8a5a957-1958-4d57-d53a-f149134fd71c"
      },
      "execution_count": null,
      "outputs": [
        {
          "output_type": "execute_result",
          "data": {
            "text/plain": [
              "tensor([[0.3838, 0.5322, 0.4797, 0.0418],\n",
              "        [0.3637, 0.1763, 0.5980, 0.2447],\n",
              "        [0.6658, 0.0835, 0.0854, 0.4734]])"
            ]
          },
          "metadata": {},
          "execution_count": 6
        }
      ]
    },
    {
      "cell_type": "code",
      "source": [
        "print(random_tensor.ndim)\n",
        "print(random_tensor.shape)"
      ],
      "metadata": {
        "colab": {
          "base_uri": "https://localhost:8080/"
        },
        "id": "IgDpSsgkJk1A",
        "outputId": "0a8b01da-6d50-4c8c-fe30-d3c649351fdc"
      },
      "execution_count": null,
      "outputs": [
        {
          "output_type": "stream",
          "name": "stdout",
          "text": [
            "3\n",
            "torch.Size([2, 1, 3])\n"
          ]
        }
      ]
    },
    {
      "cell_type": "markdown",
      "source": [
        "## Tensors of Zeroes and Ones\n",
        "\n",
        "What if we want to create a tensor of zeroes and ones, maybe something like a boolean tensor?"
      ],
      "metadata": {
        "id": "TIUeaN8BfspH"
      }
    },
    {
      "cell_type": "code",
      "source": [
        "# Create a tensor of all zeros\n",
        "zeros = torch.zeros(3,4)\n",
        "zeros"
      ],
      "metadata": {
        "colab": {
          "base_uri": "https://localhost:8080/"
        },
        "id": "uAPm0MihfsNN",
        "outputId": "af6a28da-95b1-49e3-9593-7a5be8567907"
      },
      "execution_count": null,
      "outputs": [
        {
          "output_type": "execute_result",
          "data": {
            "text/plain": [
              "tensor([[0., 0., 0., 0.],\n",
              "        [0., 0., 0., 0.],\n",
              "        [0., 0., 0., 0.]])"
            ]
          },
          "metadata": {},
          "execution_count": 3
        }
      ]
    },
    {
      "cell_type": "markdown",
      "source": [
        "## Creating a range of Tensors and Tensors-like\n",
        "\n",
        "Use ```torch.range()``` will return deprecated message, so use ```torch.arange()``` instead"
      ],
      "metadata": {
        "id": "5cJtiEYBgvMi"
      }
    },
    {
      "cell_type": "code",
      "source": [
        "# Create a range\n",
        "one_to_ten = torch.arange(start = 1, end = 21, step = 2)\n",
        "one_to_ten"
      ],
      "metadata": {
        "colab": {
          "base_uri": "https://localhost:8080/"
        },
        "id": "qyrPaHtcgufy",
        "outputId": "becdbd79-0725-4caa-a467-c5e1a5d388bc"
      },
      "execution_count": null,
      "outputs": [
        {
          "output_type": "execute_result",
          "data": {
            "text/plain": [
              "tensor([ 1,  3,  5,  7,  9, 11, 13, 15, 17, 19])"
            ]
          },
          "metadata": {},
          "execution_count": 23
        }
      ]
    },
    {
      "cell_type": "code",
      "source": [
        "# Creating tensors like\n",
        "ten_zeros = torch.zeros_like(input = one_to_ten)\n",
        "ten_zeros"
      ],
      "metadata": {
        "colab": {
          "base_uri": "https://localhost:8080/"
        },
        "id": "VizdbFmvhT3e",
        "outputId": "d62d6a81-5ef2-485b-de49-8541b2b19e42"
      },
      "execution_count": null,
      "outputs": [
        {
          "output_type": "execute_result",
          "data": {
            "text/plain": [
              "tensor([0, 0, 0, 0, 0, 0, 0, 0, 0, 0])"
            ]
          },
          "metadata": {},
          "execution_count": 24
        }
      ]
    },
    {
      "cell_type": "markdown",
      "source": [
        "## Tensor Data Type\n",
        "\n",
        "The default data type of tensors is ```float32``` but what about the other things?\n",
        "\n",
        "**Notes:** Tensor datatypes is one the 3 big errors you'll run into with PyTorch & deep learning: \n",
        "1. Tensors not right datatype\n",
        "2. Tensors not right shape (matrix multiplication for instance)\n",
        "3. Tensors not on the right device (CPU or smth)"
      ],
      "metadata": {
        "id": "Jm907fBBh8ey"
      }
    },
    {
      "cell_type": "code",
      "source": [
        "float_32_tensor = torch.tensor([3.0, 6.0, 9.0], dtype = torch.float32)\n",
        "float_32_tensor.dtype"
      ],
      "metadata": {
        "colab": {
          "base_uri": "https://localhost:8080/"
        },
        "id": "h_3-BZwOiCGm",
        "outputId": "69215aa3-9970-40ac-a3f3-9c94ba556641"
      },
      "execution_count": null,
      "outputs": [
        {
          "output_type": "execute_result",
          "data": {
            "text/plain": [
              "torch.float32"
            ]
          },
          "metadata": {},
          "execution_count": 32
        }
      ]
    },
    {
      "cell_type": "code",
      "source": [
        "float_32_tensor.dim"
      ],
      "metadata": {
        "colab": {
          "base_uri": "https://localhost:8080/"
        },
        "id": "ESaf9zCJm0YS",
        "outputId": "66408431-1246-4b2a-f0e0-8b086b669c5a"
      },
      "execution_count": null,
      "outputs": [
        {
          "output_type": "execute_result",
          "data": {
            "text/plain": [
              "<function Tensor.dim>"
            ]
          },
          "metadata": {},
          "execution_count": 40
        }
      ]
    },
    {
      "cell_type": "code",
      "source": [
        "# Learn Device\n",
        "float_32_tensor = torch.tensor([3.0, 6.0, 9.0], dtype = None, device = None, requires_grad = False)"
      ],
      "metadata": {
        "id": "Xrs8yt6bjHg3"
      },
      "execution_count": null,
      "outputs": []
    },
    {
      "cell_type": "markdown",
      "source": [
        "+ dtype = what the data type is (default =\n",
        "float32, but can set to others like the example above) \n",
        "\n",
        "Why? to prioritize computing speed or precision.\n",
        "\n",
        "+ device = `\"cpu\", \"cuda\", \"gpu\"`... . We will need tensors to be stored on the same computing device (CPU, CUDA, GPU, etc.) to perform computations\n",
        "\n",
        "+ requires_grad = (require gradients) track gradient when it goes through certain computations.\n",
        "\n",
        "\n"
      ],
      "metadata": {
        "id": "OtIXq5CCjd3G"
      }
    },
    {
      "cell_type": "code",
      "source": [
        "float_16_tensor = float_32_tensor.type(torch.float16)\n",
        "float_16_tensor.dtype"
      ],
      "metadata": {
        "colab": {
          "base_uri": "https://localhost:8080/"
        },
        "id": "WD_cr90ylCLi",
        "outputId": "7bb5363f-e22e-4875-8f82-142a9895e560"
      },
      "execution_count": null,
      "outputs": [
        {
          "output_type": "execute_result",
          "data": {
            "text/plain": [
              "torch.float16"
            ]
          },
          "metadata": {},
          "execution_count": 33
        }
      ]
    },
    {
      "cell_type": "code",
      "source": [
        "float_64_tensor = float_16_tensor.type(torch.float64)\n",
        "float_64_tensor.dtype"
      ],
      "metadata": {
        "colab": {
          "base_uri": "https://localhost:8080/"
        },
        "id": "0FKB5L-LlO4Y",
        "outputId": "ebc595d3-11d2-4c1a-9daf-79cadb505d2d"
      },
      "execution_count": null,
      "outputs": [
        {
          "output_type": "execute_result",
          "data": {
            "text/plain": [
              "torch.float64"
            ]
          },
          "metadata": {},
          "execution_count": 35
        }
      ]
    },
    {
      "cell_type": "code",
      "source": [
        "temp = float_16_tensor * float_32_tensor\n",
        "temp, temp.dtype"
      ],
      "metadata": {
        "colab": {
          "base_uri": "https://localhost:8080/"
        },
        "id": "BqIwkH69ley7",
        "outputId": "eae531f4-5175-4b0a-ff0b-6870641db1fa"
      },
      "execution_count": null,
      "outputs": [
        {
          "output_type": "execute_result",
          "data": {
            "text/plain": [
              "(tensor([ 9., 36., 81.]), torch.float32)"
            ]
          },
          "metadata": {},
          "execution_count": 39
        }
      ]
    },
    {
      "cell_type": "code",
      "source": [],
      "metadata": {
        "colab": {
          "base_uri": "https://localhost:8080/"
        },
        "id": "NXnI09JloYn2",
        "outputId": "fb1e3577-8da0-49e7-87e7-b69539b23c25"
      },
      "execution_count": null,
      "outputs": [
        {
          "output_type": "execute_result",
          "data": {
            "text/plain": [
              "torch.Size([3])"
            ]
          },
          "metadata": {},
          "execution_count": 42
        }
      ]
    },
    {
      "cell_type": "markdown",
      "source": [
        "### Side notes on multiple matrix multiplication functions in PyTorch\n",
        "\n",
        "- The default multiplication is element-wise multiplication: ```[a_1, b_1][c_1, d_1] = [a_1b_1, c_1d_1]```\n",
        "- Other multiplications requires Torch functions:\n",
        "  - ``` torch.kron``` : for Kronecker product\n",
        "  - ```torch.matmul```: for matrix multiplication"
      ],
      "metadata": {
        "id": "-hCJQZ9C1pBa"
      }
    },
    {
      "cell_type": "code",
      "source": [
        "e1 = torch.rand(1,1,2)\n",
        "e2 = torch.rand(2,3,3)\n",
        "torch.kron(e1, e2)"
      ],
      "metadata": {
        "colab": {
          "base_uri": "https://localhost:8080/"
        },
        "id": "2cpqQGpwoZs6",
        "outputId": "fff8f095-1802-41ff-b261-05ab2120f028"
      },
      "execution_count": null,
      "outputs": [
        {
          "output_type": "execute_result",
          "data": {
            "text/plain": [
              "tensor([[[0.1836, 0.2485, 0.1502, 0.0624, 0.0845, 0.0510],\n",
              "         [0.1541, 0.1922, 0.1412, 0.0524, 0.0653, 0.0480],\n",
              "         [0.1970, 0.1677, 0.1453, 0.0670, 0.0570, 0.0494]],\n",
              "\n",
              "        [[0.0617, 0.0621, 0.3471, 0.0210, 0.0211, 0.1180],\n",
              "         [0.1132, 0.2384, 0.1851, 0.0385, 0.0810, 0.0629],\n",
              "         [0.3607, 0.0263, 0.2520, 0.1226, 0.0089, 0.0856]]])"
            ]
          },
          "metadata": {},
          "execution_count": 5
        }
      ]
    },
    {
      "cell_type": "markdown",
      "source": [
        "## Manipulating Tensors (tensor operations)\n",
        "\n",
        "Tensor operations include: \n",
        "* Addition\n",
        "* Subtraction\n",
        "* Multiplication (element-wise , as noted above)\n",
        "* Division\n",
        "* Matrix multiplication"
      ],
      "metadata": {
        "id": "b_Xng1jL2YEa"
      }
    },
    {
      "cell_type": "code",
      "source": [
        "# Tensor addition\n",
        "tensor = torch.tensor([1,2,3])\n",
        "tensor + 10, tensor + torch.tensor([1,2,3])"
      ],
      "metadata": {
        "id": "vbpjpWPOo68k",
        "colab": {
          "base_uri": "https://localhost:8080/"
        },
        "outputId": "f20a42fa-8281-4015-d0f1-554927aed006"
      },
      "execution_count": null,
      "outputs": [
        {
          "output_type": "execute_result",
          "data": {
            "text/plain": [
              "(tensor([11, 12, 13]), tensor([2, 4, 6]))"
            ]
          },
          "metadata": {},
          "execution_count": 9
        }
      ]
    },
    {
      "cell_type": "code",
      "source": [
        "#tensor multiplication\n",
        "tensor = torch.tensor([1,2,3])\n",
        "tensor = tensor * 10\n",
        "print(tensor)\n",
        "\n",
        "#tensor subtraction\n",
        "tensor -= 5\n",
        "print(tensor)"
      ],
      "metadata": {
        "colab": {
          "base_uri": "https://localhost:8080/"
        },
        "id": "JdslTgHS3RN-",
        "outputId": "c41fc9c0-437f-4523-95fb-c81f5a8936f0"
      },
      "execution_count": null,
      "outputs": [
        {
          "output_type": "stream",
          "name": "stdout",
          "text": [
            "tensor([10, 20, 30])\n",
            "tensor([ 5, 15, 25])\n"
          ]
        }
      ]
    },
    {
      "cell_type": "markdown",
      "source": [
        "One of the most common errors in deep learning is shape errors."
      ],
      "metadata": {
        "id": "TGJvREyT5u6o"
      }
    },
    {
      "cell_type": "markdown",
      "source": [
        "## Finding the Min, Max, Mean, Sum, etc. (Tensor aggregation)"
      ],
      "metadata": {
        "id": "mAno42_x6a8J"
      }
    },
    {
      "cell_type": "code",
      "source": [
        "## Create a tensor\n",
        "x = torch.arange(0,100, 10)\n",
        "x"
      ],
      "metadata": {
        "colab": {
          "base_uri": "https://localhost:8080/"
        },
        "id": "nJ8Br4pn-ycR",
        "outputId": "1709626a-a859-47d3-911b-5a30276e941a"
      },
      "execution_count": null,
      "outputs": [
        {
          "output_type": "execute_result",
          "data": {
            "text/plain": [
              "tensor([ 0, 10, 20, 30, 40, 50, 60, 70, 80, 90])"
            ]
          },
          "metadata": {},
          "execution_count": 19
        }
      ]
    },
    {
      "cell_type": "code",
      "source": [
        "#Find the min and the max:\n",
        "torch.min(x), torch.max(x)"
      ],
      "metadata": {
        "colab": {
          "base_uri": "https://localhost:8080/"
        },
        "id": "UbxT1ix3-31x",
        "outputId": "81ff1d2c-9dd6-40ab-9c6a-b36efb264fb5"
      },
      "execution_count": null,
      "outputs": [
        {
          "output_type": "execute_result",
          "data": {
            "text/plain": [
              "(tensor(0), tensor(90))"
            ]
          },
          "metadata": {},
          "execution_count": 20
        }
      ]
    },
    {
      "cell_type": "code",
      "source": [
        "# Using methods of x:\n",
        "x.min(), x.max()"
      ],
      "metadata": {
        "colab": {
          "base_uri": "https://localhost:8080/"
        },
        "id": "6dHErhDI-8ux",
        "outputId": "ebdd9494-6865-4fec-84ab-97bf351df87a"
      },
      "execution_count": null,
      "outputs": [
        {
          "output_type": "execute_result",
          "data": {
            "text/plain": [
              "(tensor(0), tensor(90))"
            ]
          },
          "metadata": {},
          "execution_count": 21
        }
      ]
    },
    {
      "cell_type": "code",
      "source": [
        "#Find the mean\n",
        "x = x.type(torch.float32)\n",
        "x.mean()"
      ],
      "metadata": {
        "colab": {
          "base_uri": "https://localhost:8080/"
        },
        "id": "iPYCcQCK_Dbw",
        "outputId": "7e888728-642b-4d79-f0e6-0305b23480bf"
      },
      "execution_count": null,
      "outputs": [
        {
          "output_type": "execute_result",
          "data": {
            "text/plain": [
              "tensor(45.)"
            ]
          },
          "metadata": {},
          "execution_count": 27
        }
      ]
    },
    {
      "cell_type": "markdown",
      "source": [
        "**Notes:** Ok but if we try to use mean on any random tensor, we will probably get some error like this: \n",
        "```\n",
        "mean(): could not infer output dtype. Input dtype must be either a floating point or complex dtype. Got: Long\n",
        "```\n",
        "\n",
        "Therefore, it is neccessary that we convert x to its appropriate type, in this case a float, and we choose one precision, so `x = x.type(torch.float32)`"
      ],
      "metadata": {
        "id": "oBRUrw5-_OVw"
      }
    },
    {
      "cell_type": "code",
      "source": [
        "# Find the sum\n",
        "torch.sum(x), x.sum()"
      ],
      "metadata": {
        "colab": {
          "base_uri": "https://localhost:8080/"
        },
        "id": "zoUGt-wGALk6",
        "outputId": "dc7e4474-c671-4b23-dddc-a35cd47c1cce"
      },
      "execution_count": null,
      "outputs": [
        {
          "output_type": "execute_result",
          "data": {
            "text/plain": [
              "(tensor(450.), tensor(450.))"
            ]
          },
          "metadata": {},
          "execution_count": 28
        }
      ]
    },
    {
      "cell_type": "markdown",
      "source": [
        "### Finding the positional min and max"
      ],
      "metadata": {
        "id": "5RJdbCxuArZ0"
      }
    },
    {
      "cell_type": "code",
      "source": [
        "x.argmin(), x.argmax() # Find the position in tensor that has the minimum value with argmin() -> return index position of the minimum element of the array"
      ],
      "metadata": {
        "colab": {
          "base_uri": "https://localhost:8080/"
        },
        "id": "kPiiqFyaAvdG",
        "outputId": "30ed21d3-cf96-468b-dded-9abe85ed6241"
      },
      "execution_count": null,
      "outputs": [
        {
          "output_type": "execute_result",
          "data": {
            "text/plain": [
              "(tensor(0), tensor(9))"
            ]
          },
          "metadata": {},
          "execution_count": 31
        }
      ]
    },
    {
      "cell_type": "markdown",
      "source": [
        "Let's play around with it for a while shall we?"
      ],
      "metadata": {
        "id": "3PPwFDuDA8Rp"
      }
    },
    {
      "cell_type": "code",
      "source": [
        "x1 = torch.rand(2,3)\n",
        "x1, x1.argmin(), x1.argmax(), x1.type(torch.float32).mean()"
      ],
      "metadata": {
        "colab": {
          "base_uri": "https://localhost:8080/"
        },
        "id": "ao4PdW8bAz_P",
        "outputId": "8e6b14a6-8a61-42fb-f083-e9d0d8977199"
      },
      "execution_count": null,
      "outputs": [
        {
          "output_type": "execute_result",
          "data": {
            "text/plain": [
              "(tensor([[0.7169, 0.2678, 0.4956],\n",
              "         [0.0985, 0.6351, 0.3671]]),\n",
              " tensor(3),\n",
              " tensor(0),\n",
              " tensor(0.4302))"
            ]
          },
          "metadata": {},
          "execution_count": 34
        }
      ]
    },
    {
      "cell_type": "markdown",
      "source": [
        "## Reshaping, Stacking, Squeezing, Unsqueezing tensors\n",
        "\n",
        "* Reshaping - reshapes an input tensor to a defined shape\n",
        "* View - Return a view of an input tensor of certain shape but keep the same memory as the original tensor\n",
        "* Stacking - combine multiple tensors on top of each other (vstack) or side by side (hstack). `torch.stack`: https://pytorch.org/docs/stable/generated/torch.stack.html, then let's google the same `torch.hstack()` and `torch.vstack()`\n",
        "* Squeeze - removes all `1` dimensions from a tensor\n",
        "* Unsqueeze - add a `1` dimension to a target tensor\n",
        "* Permute - Return a view of input with dimensions permuted (swapped) in a certain way\n",
        "\n"
      ],
      "metadata": {
        "id": "lb_Cc0lkB-Lo"
      }
    },
    {
      "cell_type": "code",
      "source": [
        "# Let's create a tensor\n",
        "import torch\n",
        "x = torch.arange(0., 10.)\n",
        "x, x.shape"
      ],
      "metadata": {
        "colab": {
          "base_uri": "https://localhost:8080/"
        },
        "id": "eyf2BjMeC3C_",
        "outputId": "98376411-354d-4d1d-9778-6019d028fa5c"
      },
      "execution_count": null,
      "outputs": [
        {
          "output_type": "execute_result",
          "data": {
            "text/plain": [
              "(tensor([0., 1., 2., 3., 4., 5., 6., 7., 8., 9.]), torch.Size([10]))"
            ]
          },
          "metadata": {},
          "execution_count": 45
        }
      ]
    },
    {
      "cell_type": "code",
      "source": [
        "# Add an extra dimension\n",
        "x_reshaped = x.reshape(2, 5)\n",
        "x_reshaped, x_reshaped.shape\n",
        "# So the original matrix is [a*b], then the reshape method will take this a*b elements to map it into a new matrix of dimension c*d. Therefore, a*b = c*d"
      ],
      "metadata": {
        "colab": {
          "base_uri": "https://localhost:8080/"
        },
        "id": "mUBPUnpsDDPm",
        "outputId": "142c7532-083d-4063-bbff-45dd929d59d5"
      },
      "execution_count": null,
      "outputs": [
        {
          "output_type": "execute_result",
          "data": {
            "text/plain": [
              "(tensor([[0., 1., 2., 3., 4.],\n",
              "         [5., 6., 7., 8., 9.]]),\n",
              " torch.Size([2, 5]))"
            ]
          },
          "metadata": {},
          "execution_count": 47
        }
      ]
    },
    {
      "cell_type": "code",
      "source": [
        "# Change the view\n",
        "z = x.view(10, 1)\n",
        "z, z.shape, x"
      ],
      "metadata": {
        "colab": {
          "base_uri": "https://localhost:8080/"
        },
        "id": "gKtyCD9uDk_U",
        "outputId": "605dbe20-a5e4-40aa-c5cd-a7c09c964f1c"
      },
      "execution_count": null,
      "outputs": [
        {
          "output_type": "execute_result",
          "data": {
            "text/plain": [
              "(tensor([[0.],\n",
              "         [1.],\n",
              "         [2.],\n",
              "         [3.],\n",
              "         [4.],\n",
              "         [5.],\n",
              "         [6.],\n",
              "         [7.],\n",
              "         [8.],\n",
              "         [9.]]),\n",
              " torch.Size([10, 1]),\n",
              " tensor([0., 1., 2., 3., 4., 5., 6., 7., 8., 9.]))"
            ]
          },
          "metadata": {},
          "execution_count": 52
        }
      ]
    },
    {
      "cell_type": "code",
      "source": [
        "# changing x changes x because view of a tensor shares the same memory as the original tensor, so: \n",
        "z[0] = 5\n",
        "z,x"
      ],
      "metadata": {
        "colab": {
          "base_uri": "https://localhost:8080/"
        },
        "id": "tUO275jnEjHv",
        "outputId": "4b065adc-1ae3-4ab3-fda0-857a6e49faa3"
      },
      "execution_count": null,
      "outputs": [
        {
          "output_type": "execute_result",
          "data": {
            "text/plain": [
              "(tensor([[5.],\n",
              "         [1.],\n",
              "         [2.],\n",
              "         [3.],\n",
              "         [4.],\n",
              "         [5.],\n",
              "         [6.],\n",
              "         [7.],\n",
              "         [8.],\n",
              "         [9.]]),\n",
              " tensor([5., 1., 2., 3., 4., 5., 6., 7., 8., 9.]))"
            ]
          },
          "metadata": {},
          "execution_count": 53
        }
      ]
    },
    {
      "cell_type": "code",
      "source": [
        "# stack tensors on top of each other\n",
        "x_stacked = torch.stack([x,x,x])\n",
        "print(x_stacked, x_stacked.shape)\n",
        "# The default option is to stack the tensors on each other, i.e. dim = 0\n",
        "x_stacked_horizontal = torch.stack([x,x,x], dim = 1)\n",
        "print(x_stacked_horizontal, x_stacked_horizontal.shape)"
      ],
      "metadata": {
        "colab": {
          "base_uri": "https://localhost:8080/"
        },
        "id": "h3Q4BJ6qFEno",
        "outputId": "6748a933-13f1-4c0a-f45f-662485b705d1"
      },
      "execution_count": null,
      "outputs": [
        {
          "output_type": "stream",
          "name": "stdout",
          "text": [
            "tensor([[5., 1., 2., 3., 4., 5., 6., 7., 8., 9.],\n",
            "        [5., 1., 2., 3., 4., 5., 6., 7., 8., 9.],\n",
            "        [5., 1., 2., 3., 4., 5., 6., 7., 8., 9.]]) torch.Size([3, 10])\n",
            "tensor([[5., 5., 5.],\n",
            "        [1., 1., 1.],\n",
            "        [2., 2., 2.],\n",
            "        [3., 3., 3.],\n",
            "        [4., 4., 4.],\n",
            "        [5., 5., 5.],\n",
            "        [6., 6., 6.],\n",
            "        [7., 7., 7.],\n",
            "        [8., 8., 8.],\n",
            "        [9., 9., 9.]]) torch.Size([10, 3])\n"
          ]
        }
      ]
    },
    {
      "cell_type": "code",
      "source": [
        "# squeeze: remove all dimensions with only 1 element\n",
        "y_expanded = torch.rand(2,1,3)\n",
        "y_squeezed = y_expanded.squeeze()\n",
        "y_squeezed, y_squeezed.shape"
      ],
      "metadata": {
        "colab": {
          "base_uri": "https://localhost:8080/"
        },
        "id": "GyDA3hQkF95-",
        "outputId": "b8128765-fe2f-4afe-c97d-7a9a5f3a1324"
      },
      "execution_count": null,
      "outputs": [
        {
          "output_type": "execute_result",
          "data": {
            "text/plain": [
              "(tensor([[0.3825, 0.5991, 0.5667],\n",
              "         [0.4262, 0.6440, 0.7001]]),\n",
              " torch.Size([2, 3]))"
            ]
          },
          "metadata": {},
          "execution_count": 60
        }
      ]
    },
    {
      "cell_type": "code",
      "source": [
        "y_unsqueezed_0 = y_squeezed.unsqueeze(dim = 0)\n",
        "y_unsqueezed_1 = y_squeezed.unsqueeze(dim = 1)\n",
        "y_unsqueezed_0, y_unsqueezed_0.shape, y_unsqueezed_1, y_unsqueezed_1.shape"
      ],
      "metadata": {
        "colab": {
          "base_uri": "https://localhost:8080/"
        },
        "id": "U7Fk9lARGtoA",
        "outputId": "89e02ee9-43a5-413a-b2cf-b3048c4c4730"
      },
      "execution_count": null,
      "outputs": [
        {
          "output_type": "execute_result",
          "data": {
            "text/plain": [
              "(tensor([[[0.3825, 0.5991, 0.5667],\n",
              "          [0.4262, 0.6440, 0.7001]]]),\n",
              " torch.Size([1, 2, 3]),\n",
              " tensor([[[0.3825, 0.5991, 0.5667]],\n",
              " \n",
              "         [[0.4262, 0.6440, 0.7001]]]),\n",
              " torch.Size([2, 1, 3]))"
            ]
          },
          "metadata": {},
          "execution_count": 64
        }
      ]
    },
    {
      "cell_type": "code",
      "source": [
        "#torch.permute -rearranges the dimensions of a target tensor in a specified manner\n",
        "x = torch.rand(2,3,4)\n",
        "x, torch.permute(x, (1,2,0))"
      ],
      "metadata": {
        "colab": {
          "base_uri": "https://localhost:8080/"
        },
        "id": "fDIZLye7HXOs",
        "outputId": "63cbfa7f-4b7c-4bd4-8e48-0375a1fa96ec"
      },
      "execution_count": null,
      "outputs": [
        {
          "output_type": "execute_result",
          "data": {
            "text/plain": [
              "(tensor([[[0.6955, 0.2387, 0.9605, 0.7970],\n",
              "          [0.3580, 0.8134, 0.7609, 0.7544],\n",
              "          [0.6029, 0.9305, 0.0765, 0.5659]],\n",
              " \n",
              "         [[0.5059, 0.7672, 0.3522, 0.9212],\n",
              "          [0.7197, 0.9252, 0.5921, 0.7286],\n",
              "          [0.8556, 0.1377, 0.5048, 0.8365]]]),\n",
              " tensor([[[0.6955, 0.5059],\n",
              "          [0.2387, 0.7672],\n",
              "          [0.9605, 0.3522],\n",
              "          [0.7970, 0.9212]],\n",
              " \n",
              "         [[0.3580, 0.7197],\n",
              "          [0.8134, 0.9252],\n",
              "          [0.7609, 0.5921],\n",
              "          [0.7544, 0.7286]],\n",
              " \n",
              "         [[0.6029, 0.8556],\n",
              "          [0.9305, 0.1377],\n",
              "          [0.0765, 0.5048],\n",
              "          [0.5659, 0.8365]]]))"
            ]
          },
          "metadata": {},
          "execution_count": 68
        }
      ]
    },
    {
      "cell_type": "markdown",
      "source": [
        "## Indexing (selecting data from tensors)\n",
        "\n",
        "Indexing with PyTorch is similar to indexing with NumPy"
      ],
      "metadata": {
        "id": "gaCWKWa4ItTA"
      }
    },
    {
      "cell_type": "code",
      "source": [
        "# Create a tensor\n",
        "import torch\n",
        "x = torch.arange(1, 10).reshape(1,3,3)\n",
        "#two ways to indexing tensors: x[a,b,c] or x[a][b][c]. Where a,b,c are the dimensions, from the outer most in\n",
        "x, x.shape, x[0,1,0], x[0][1][0],  x[0,1,0] == x[0][1][0]"
      ],
      "metadata": {
        "colab": {
          "base_uri": "https://localhost:8080/"
        },
        "id": "qOF-4VvyI1LZ",
        "outputId": "09f465cc-ce7c-4ac5-9942-78a5d03edc54"
      },
      "execution_count": null,
      "outputs": [
        {
          "output_type": "execute_result",
          "data": {
            "text/plain": [
              "(tensor([[[1, 2, 3],\n",
              "          [4, 5, 6],\n",
              "          [7, 8, 9]]]),\n",
              " torch.Size([1, 3, 3]),\n",
              " tensor(4),\n",
              " tensor(4),\n",
              " tensor(True))"
            ]
          },
          "metadata": {},
          "execution_count": 75
        }
      ]
    },
    {
      "cell_type": "markdown",
      "source": [
        "Sounds similar to Python? But what if we are trying to extract a column of the matrix, i.e. we want a certain index of the second dimension : accessing certain indices of the third dimension without having to access it? "
      ],
      "metadata": {
        "id": "en2yaiO_JvVB"
      }
    },
    {
      "cell_type": "code",
      "source": [
        "x[:, : , 1] # accessing all values of the 0th and 1st dimensions but only index 1 of 2nd dimension, or:\n",
        "x[:, 1, 1] #accessing all values of the 0th dimensions but only index 1 of 1st and 2nd dimension\n",
        "x[:, 1, :] #note how this does not quite matter much (as we might as well write x[:,1])\n",
        "x[:,1] == x[:,1, :], x[:,1].shape == x[:,1,:].shape"
      ],
      "metadata": {
        "colab": {
          "base_uri": "https://localhost:8080/"
        },
        "id": "JKCqoIA6J9cF",
        "outputId": "46fb38a1-89db-4187-d4e1-ce433d0cfdbf"
      },
      "execution_count": null,
      "outputs": [
        {
          "output_type": "execute_result",
          "data": {
            "text/plain": [
              "(tensor([[True, True, True]]), True)"
            ]
          },
          "metadata": {},
          "execution_count": 82
        }
      ]
    },
    {
      "cell_type": "markdown",
      "source": [
        "## PyTorch Tensors and NumPy\n",
        "\n",
        "Numpy is a popular scientific Python numerical computing library. \n",
        "\n",
        "And because of this, PyTorch has functionality to interact with it. \n",
        "\n",
        "* Data in Numpy, want in PyTorch tensor -> `torch.from_numpy(ndarray)`\n",
        "* PyTorch tensor -> NumPy -> `torch.Tensor.numpy()`"
      ],
      "metadata": {
        "id": "HZ7I_be1NLgz"
      }
    },
    {
      "cell_type": "code",
      "source": [
        "# Numpy array to tensor\n",
        "import torch\n",
        "import numpy as np\n",
        "\n",
        "array = np.arange(1.0, 8.0)\n",
        "tensor = torch.from_numpy(array).type(torch.float32) #numpy default dtype = float64 therefore we SHOULD convert (not mandatory though)\n",
        "array, tensor, tensor.dtype"
      ],
      "metadata": {
        "colab": {
          "base_uri": "https://localhost:8080/"
        },
        "id": "Y8IIJrfiNK0N",
        "outputId": "f6b6f7d5-db6e-47b6-e79f-fb1fcc1356bc"
      },
      "execution_count": null,
      "outputs": [
        {
          "output_type": "execute_result",
          "data": {
            "text/plain": [
              "(array([1., 2., 3., 4., 5., 6., 7.]),\n",
              " tensor([1., 2., 3., 4., 5., 6., 7.]),\n",
              " torch.float32)"
            ]
          },
          "metadata": {},
          "execution_count": 86
        }
      ]
    },
    {
      "cell_type": "code",
      "source": [
        "# Let's see what happens to `tensor` when we change the values of `array`?\n",
        "array = array +1\n",
        "array, tensor\n",
        "## --> it does not change the value of tensor"
      ],
      "metadata": {
        "colab": {
          "base_uri": "https://localhost:8080/"
        },
        "id": "BCFaMFcdOVtC",
        "outputId": "f708310f-d8d7-4adf-cac0-c40ce3e0e622"
      },
      "execution_count": null,
      "outputs": [
        {
          "output_type": "execute_result",
          "data": {
            "text/plain": [
              "(array([2., 3., 4., 5., 6., 7., 8.]), tensor([1., 2., 3., 4., 5., 6., 7.]))"
            ]
          },
          "metadata": {},
          "execution_count": 87
        }
      ]
    }
  ]
}